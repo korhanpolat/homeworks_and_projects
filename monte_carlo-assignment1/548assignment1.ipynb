{
 "cells": [
  {
   "cell_type": "markdown",
   "metadata": {},
   "source": [
    "Find $\\pi$ by rejection sampling"
   ]
  },
  {
   "cell_type": "code",
   "execution_count": 1,
   "metadata": {},
   "outputs": [],
   "source": [
    "import numpy as np\n",
    "# initialize variables\n",
    "N = [100,1e3,1e4] # number of samples\n",
    "origin = np.array([.5 , .5]) # defines a circle\n",
    "radius = .5 "
   ]
  },
  {
   "cell_type": "markdown",
   "metadata": {},
   "source": [
    "We count the samples that are inside the circle, and find the $\\pi$ estimate by making use of the area formula such that $ \\hat{\\pi} = \\frac{\\#\\ of\\ samples\\ inside}{N \\times r^{2}}$ , then we take the mean over 10 trials. "
   ]
  },
  {
   "cell_type": "code",
   "execution_count": 2,
   "metadata": {},
   "outputs": [
    {
     "name": "stdout",
     "output_type": "stream",
     "text": [
      "For N=100 Mean: 3.092, Variance: 0.005776000000000009\n",
      "For N=1000 Mean: 3.1760000000000006, Variance: 0.002697599999999999\n",
      "For N=10000 Mean: 3.1414, Variance: 9.271200000000017e-05\n"
     ]
    }
   ],
   "source": [
    "for n in N:\n",
    "    estimates = np.zeros((10,1)) # estimates for each experiment    \n",
    "    for run in range(10):\n",
    "        count = 0\n",
    "        for i in range(np.int(n)):\n",
    "            sample = np.random.rand(2)        \n",
    "            distance = np.sqrt(np.sum((sample - origin)**2))\n",
    "            if (distance < radius): count += 1\n",
    "        estimates[run] = count / (n*radius**2)    \n",
    "    print(\"For N=\" + str(np.int(n)) + \" Mean: \" + str(np.mean(estimates))\n",
    "    + \", Variance: \" + str(np.var(estimates)))"
   ]
  }
 ],
 "metadata": {
  "kernelspec": {
   "display_name": "Python 3",
   "language": "python",
   "name": "python3"
  },
  "language_info": {
   "codemirror_mode": {
    "name": "ipython",
    "version": 3
   },
   "file_extension": ".py",
   "mimetype": "text/x-python",
   "name": "python",
   "nbconvert_exporter": "python",
   "pygments_lexer": "ipython3",
   "version": "3.7.1"
  }
 },
 "nbformat": 4,
 "nbformat_minor": 2
}
